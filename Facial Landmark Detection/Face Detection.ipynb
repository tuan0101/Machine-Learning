{
 "cells": [
  {
   "cell_type": "code",
   "execution_count": 5,
   "metadata": {},
   "outputs": [
    {
     "data": {
      "text/plain": [
       "array([[[228, 177, 114],\n",
       "        [229, 178, 115],\n",
       "        [231, 180, 117],\n",
       "        ...,\n",
       "        [241, 225, 209],\n",
       "        [242, 225, 212],\n",
       "        [243, 226, 213]],\n",
       "\n",
       "       [[229, 178, 115],\n",
       "        [230, 179, 116],\n",
       "        [231, 180, 117],\n",
       "        ...,\n",
       "        [241, 225, 209],\n",
       "        [242, 225, 212],\n",
       "        [243, 226, 213]],\n",
       "\n",
       "       [[232, 181, 118],\n",
       "        [231, 180, 117],\n",
       "        [230, 179, 116],\n",
       "        ...,\n",
       "        [241, 225, 209],\n",
       "        [242, 225, 212],\n",
       "        [243, 226, 213]],\n",
       "\n",
       "       ...,\n",
       "\n",
       "       [[189, 123,  82],\n",
       "        [188, 122,  81],\n",
       "        [187, 121,  80],\n",
       "        ...,\n",
       "        [220, 149,  99],\n",
       "        [218, 147,  97],\n",
       "        [216, 145,  95]],\n",
       "\n",
       "       [[194, 128,  87],\n",
       "        [190, 124,  83],\n",
       "        [186, 120,  79],\n",
       "        ...,\n",
       "        [222, 153, 103],\n",
       "        [222, 153, 103],\n",
       "        [220, 151, 101]],\n",
       "\n",
       "       [[197, 131,  90],\n",
       "        [192, 126,  85],\n",
       "        [185, 119,  78],\n",
       "        ...,\n",
       "        [226, 157, 107],\n",
       "        [226, 157, 107],\n",
       "        [225, 156, 106]]], dtype=uint8)"
      ]
     },
     "execution_count": 5,
     "metadata": {},
     "output_type": "execute_result"
    }
   ],
   "source": [
    "import cv2\n",
    "import numpy as np\n",
    "modelFile = \"models/res10_300x300_ssd_iter_140000.caffemodel\"\n",
    "configFile = \"models/deploy.prototxt.txt\"\n",
    "net = cv2.dnn.readNetFromCaffe(configFile, modelFile)\n",
    "img = cv2.imread('Jenifer.jpg')\n",
    "h, w = img.shape[:2]\n",
    "blob = cv2.dnn.blobFromImage(cv2.resize(img, (300, 300)), 1.0,\n",
    "(300, 300), (104.0, 117.0, 123.0))\n",
    "net.setInput(blob)\n",
    "faces = net.forward()#to draw faces on image\n",
    "for i in range(faces.shape[2]):\n",
    "        confidence = faces[0, 0, i, 2]\n",
    "        if confidence > 0.5:\n",
    "            box = faces[0, 0, i, 3:7] * np.array([w, h, w, h])\n",
    "            (x, y, x1, y1) = box.astype(\"int\")\n",
    "            cv2.rectangle(img, (x, y), (x1, y1), (0, 0, 255), 2)\n",
    "            \n"
   ]
  }
 ],
 "metadata": {
  "kernelspec": {
   "display_name": "Python 3",
   "language": "python",
   "name": "python3"
  },
  "language_info": {
   "codemirror_mode": {
    "name": "ipython",
    "version": 3
   },
   "file_extension": ".py",
   "mimetype": "text/x-python",
   "name": "python",
   "nbconvert_exporter": "python",
   "pygments_lexer": "ipython3",
   "version": "3.7.1"
  }
 },
 "nbformat": 4,
 "nbformat_minor": 4
}
