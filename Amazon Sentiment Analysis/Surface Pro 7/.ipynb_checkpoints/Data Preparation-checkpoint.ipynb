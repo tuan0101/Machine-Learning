{
 "cells": [
  {
   "cell_type": "code",
   "execution_count": 103,
   "metadata": {},
   "outputs": [],
   "source": [
    "import pandas as pd\n",
    "import matplotlib.pyplot as plt\n",
    "import math, sys, time, random\n",
    "import requests \n",
    "import json \n",
    "from time import sleep\n",
    "import csv\n",
    "from dateutil import parser as dateparser\n",
    "from bs4 import BeautifulSoup "
   ]
  },
  {
   "cell_type": "markdown",
   "metadata": {},
   "source": [
    "### Send request to Amazon"
   ]
  },
  {
   "cell_type": "code",
   "execution_count": 98,
   "metadata": {},
   "outputs": [],
   "source": [
    "def scrape(url):    \n",
    "    headers = {\n",
    "        'authority': 'www.amazon.com',\n",
    "        'pragma': 'no-cache',\n",
    "        'cache-control': 'no-cache',\n",
    "        'dnt': '1',\n",
    "        'upgrade-insecure-requests': '1',\n",
    "        'user-agent': 'Mozilla/5.0 (X11; CrOS x86_64 8172.45.0) AppleWebKit/537.36 (KHTML, like Gecko) Chrome/51.0.2704.64 Safari/537.36',\n",
    "        'accept': 'text/html,application/xhtml+xml,application/xml;q=0.9,image/webp,image/apng,*/*;q=0.8,application/signed-exchange;v=b3;q=0.9',\n",
    "        'sec-fetch-site': 'none',\n",
    "        'sec-fetch-mode': 'navigate',\n",
    "        'sec-fetch-dest': 'document',\n",
    "        'accept-language': 'en-GB,en-US;q=0.9,en;q=0.8',\n",
    "    }\n",
    "\n",
    "    # Download the page using requests\n",
    "    print(\"Downloading %s\"%url)\n",
    "    r = requests.get(url, headers=headers)\n",
    "#     print(\"my r\", r.text)\n",
    "    # Simple check to check if page was blocked (Usually 503)\n",
    "    if r.status_code > 500:\n",
    "        if \"To discuss automated access to Amazon data please contact\" in r.text:\n",
    "            print(\"Page %s was blocked by Amazon. Please try using better proxies\\n\"%url)\n",
    "        else:\n",
    "            print(\"Page %s must have been blocked by Amazon as the status code was %d\"%(url,r.status_code))\n",
    "        return None\n",
    "    # Pass the HTML of the page and create \n",
    "#     return e.extract(r.text)\n",
    "    return r.text\n",
    "\n",
    "myBaseUrl = \"https://www.amazon.com/product-reviews/B07YNJ6BQL/ref=cm_cr_arp_d_viewopt_sr?ie=UTF8&filterByStar=all_stars&reviewerType=all_reviews&pageNumber=\"\n",
    "#myBaseUrl = \"https://www.amazon.in/Apple-MacBook-Air-13-3-inch-MQD32HN/product-reviews/B073Q5R6VR/ref=cm_cr_dp_d_show_all_btm?ie=UTF8&amp;amp;reviewerType=all_reviews\"\n",
    "full_urls = []\n",
    "for i in range(1,29):\n",
    "    full_urls.append(myBaseUrl+str(i))\n",
    "\n"
   ]
  },
  {
   "cell_type": "markdown",
   "metadata": {},
   "source": [
    "Random delay"
   ]
  },
  {
   "cell_type": "code",
   "execution_count": 100,
   "metadata": {},
   "outputs": [],
   "source": [
    "def sleep(alpha, beta):\n",
    "    rand = random.Random()\n",
    "    time.sleep(rand.uniform(alpha, beta))"
   ]
  },
  {
   "cell_type": "markdown",
   "metadata": {},
   "source": [
    "### Store stars and comments in 2 array"
   ]
  },
  {
   "cell_type": "code",
   "execution_count": 104,
   "metadata": {},
   "outputs": [
    {
     "name": "stdout",
     "output_type": "stream",
     "text": [
      "Downloading https://www.amazon.com/product-reviews/B07YNJ6BQL/ref=cm_cr_arp_d_viewopt_sr?ie=UTF8&filterByStar=all_stars&reviewerType=all_reviews&pageNumber=1\n",
      "Downloading https://www.amazon.com/product-reviews/B07YNJ6BQL/ref=cm_cr_arp_d_viewopt_sr?ie=UTF8&filterByStar=all_stars&reviewerType=all_reviews&pageNumber=2\n",
      "Downloading https://www.amazon.com/product-reviews/B07YNJ6BQL/ref=cm_cr_arp_d_viewopt_sr?ie=UTF8&filterByStar=all_stars&reviewerType=all_reviews&pageNumber=3\n",
      "Downloading https://www.amazon.com/product-reviews/B07YNJ6BQL/ref=cm_cr_arp_d_viewopt_sr?ie=UTF8&filterByStar=all_stars&reviewerType=all_reviews&pageNumber=4\n",
      "Downloading https://www.amazon.com/product-reviews/B07YNJ6BQL/ref=cm_cr_arp_d_viewopt_sr?ie=UTF8&filterByStar=all_stars&reviewerType=all_reviews&pageNumber=5\n",
      "Downloading https://www.amazon.com/product-reviews/B07YNJ6BQL/ref=cm_cr_arp_d_viewopt_sr?ie=UTF8&filterByStar=all_stars&reviewerType=all_reviews&pageNumber=6\n",
      "Downloading https://www.amazon.com/product-reviews/B07YNJ6BQL/ref=cm_cr_arp_d_viewopt_sr?ie=UTF8&filterByStar=all_stars&reviewerType=all_reviews&pageNumber=7\n",
      "Downloading https://www.amazon.com/product-reviews/B07YNJ6BQL/ref=cm_cr_arp_d_viewopt_sr?ie=UTF8&filterByStar=all_stars&reviewerType=all_reviews&pageNumber=8\n",
      "Downloading https://www.amazon.com/product-reviews/B07YNJ6BQL/ref=cm_cr_arp_d_viewopt_sr?ie=UTF8&filterByStar=all_stars&reviewerType=all_reviews&pageNumber=9\n",
      "Downloading https://www.amazon.com/product-reviews/B07YNJ6BQL/ref=cm_cr_arp_d_viewopt_sr?ie=UTF8&filterByStar=all_stars&reviewerType=all_reviews&pageNumber=10\n",
      "Downloading https://www.amazon.com/product-reviews/B07YNJ6BQL/ref=cm_cr_arp_d_viewopt_sr?ie=UTF8&filterByStar=all_stars&reviewerType=all_reviews&pageNumber=11\n",
      "Downloading https://www.amazon.com/product-reviews/B07YNJ6BQL/ref=cm_cr_arp_d_viewopt_sr?ie=UTF8&filterByStar=all_stars&reviewerType=all_reviews&pageNumber=12\n",
      "Downloading https://www.amazon.com/product-reviews/B07YNJ6BQL/ref=cm_cr_arp_d_viewopt_sr?ie=UTF8&filterByStar=all_stars&reviewerType=all_reviews&pageNumber=13\n",
      "Downloading https://www.amazon.com/product-reviews/B07YNJ6BQL/ref=cm_cr_arp_d_viewopt_sr?ie=UTF8&filterByStar=all_stars&reviewerType=all_reviews&pageNumber=14\n",
      "Downloading https://www.amazon.com/product-reviews/B07YNJ6BQL/ref=cm_cr_arp_d_viewopt_sr?ie=UTF8&filterByStar=all_stars&reviewerType=all_reviews&pageNumber=15\n",
      "Downloading https://www.amazon.com/product-reviews/B07YNJ6BQL/ref=cm_cr_arp_d_viewopt_sr?ie=UTF8&filterByStar=all_stars&reviewerType=all_reviews&pageNumber=16\n",
      "Downloading https://www.amazon.com/product-reviews/B07YNJ6BQL/ref=cm_cr_arp_d_viewopt_sr?ie=UTF8&filterByStar=all_stars&reviewerType=all_reviews&pageNumber=17\n",
      "Downloading https://www.amazon.com/product-reviews/B07YNJ6BQL/ref=cm_cr_arp_d_viewopt_sr?ie=UTF8&filterByStar=all_stars&reviewerType=all_reviews&pageNumber=18\n",
      "Downloading https://www.amazon.com/product-reviews/B07YNJ6BQL/ref=cm_cr_arp_d_viewopt_sr?ie=UTF8&filterByStar=all_stars&reviewerType=all_reviews&pageNumber=19\n",
      "Downloading https://www.amazon.com/product-reviews/B07YNJ6BQL/ref=cm_cr_arp_d_viewopt_sr?ie=UTF8&filterByStar=all_stars&reviewerType=all_reviews&pageNumber=20\n",
      "Downloading https://www.amazon.com/product-reviews/B07YNJ6BQL/ref=cm_cr_arp_d_viewopt_sr?ie=UTF8&filterByStar=all_stars&reviewerType=all_reviews&pageNumber=21\n",
      "Downloading https://www.amazon.com/product-reviews/B07YNJ6BQL/ref=cm_cr_arp_d_viewopt_sr?ie=UTF8&filterByStar=all_stars&reviewerType=all_reviews&pageNumber=22\n",
      "Downloading https://www.amazon.com/product-reviews/B07YNJ6BQL/ref=cm_cr_arp_d_viewopt_sr?ie=UTF8&filterByStar=all_stars&reviewerType=all_reviews&pageNumber=23\n",
      "Downloading https://www.amazon.com/product-reviews/B07YNJ6BQL/ref=cm_cr_arp_d_viewopt_sr?ie=UTF8&filterByStar=all_stars&reviewerType=all_reviews&pageNumber=24\n",
      "Downloading https://www.amazon.com/product-reviews/B07YNJ6BQL/ref=cm_cr_arp_d_viewopt_sr?ie=UTF8&filterByStar=all_stars&reviewerType=all_reviews&pageNumber=25\n",
      "Downloading https://www.amazon.com/product-reviews/B07YNJ6BQL/ref=cm_cr_arp_d_viewopt_sr?ie=UTF8&filterByStar=all_stars&reviewerType=all_reviews&pageNumber=26\n",
      "Downloading https://www.amazon.com/product-reviews/B07YNJ6BQL/ref=cm_cr_arp_d_viewopt_sr?ie=UTF8&filterByStar=all_stars&reviewerType=all_reviews&pageNumber=27\n",
      "Downloading https://www.amazon.com/product-reviews/B07YNJ6BQL/ref=cm_cr_arp_d_viewopt_sr?ie=UTF8&filterByStar=all_stars&reviewerType=all_reviews&pageNumber=28\n"
     ]
    }
   ],
   "source": [
    "comments = []\n",
    "starts = []\n",
    "for url in full_urls:\n",
    "    data = scrape(url) \n",
    "    soup = BeautifulSoup(data, 'lxml')\n",
    "    full_content = soup.find_all('div',id=\"cm_cr-review_list\")\n",
    "    text = full_content[0].find_all('span', {'class':\"review-text\"})\n",
    "    rating = full_content[0].find_all('i', {'class':\"review-rating\"})\n",
    "    for t, r in zip(text, rating):\n",
    "        comments.append(t.text)\n",
    "        starts.append(r.text)\n",
    "    sleep(5, 10)"
   ]
  },
  {
   "cell_type": "markdown",
   "metadata": {},
   "source": [
    "Convert to Pandas DataFrame"
   ]
  },
  {
   "cell_type": "code",
   "execution_count": 108,
   "metadata": {
    "scrolled": true
   },
   "outputs": [
    {
     "data": {
      "text/html": [
       "<div>\n",
       "<style scoped>\n",
       "    .dataframe tbody tr th:only-of-type {\n",
       "        vertical-align: middle;\n",
       "    }\n",
       "\n",
       "    .dataframe tbody tr th {\n",
       "        vertical-align: top;\n",
       "    }\n",
       "\n",
       "    .dataframe thead th {\n",
       "        text-align: right;\n",
       "    }\n",
       "</style>\n",
       "<table border=\"1\" class=\"dataframe\">\n",
       "  <thead>\n",
       "    <tr style=\"text-align: right;\">\n",
       "      <th></th>\n",
       "      <th>stars</th>\n",
       "      <th>comments</th>\n",
       "    </tr>\n",
       "  </thead>\n",
       "  <tbody>\n",
       "    <tr>\n",
       "      <th>0</th>\n",
       "      <td>4.0 out of 5 stars</td>\n",
       "      <td>\\n\\n  Pros:• USB-C, Finally! As a past Surface...</td>\n",
       "    </tr>\n",
       "    <tr>\n",
       "      <th>1</th>\n",
       "      <td>2.0 out of 5 stars</td>\n",
       "      <td>\\n\\n  Comparing Dell XPS 13, Lenovo Yoga C940 ...</td>\n",
       "    </tr>\n",
       "    <tr>\n",
       "      <th>2</th>\n",
       "      <td>5.0 out of 5 stars</td>\n",
       "      <td>\\n\\n  I'm seeing complaints about how this isn...</td>\n",
       "    </tr>\n",
       "    <tr>\n",
       "      <th>3</th>\n",
       "      <td>1.0 out of 5 stars</td>\n",
       "      <td>\\n\\n  Purchased this item trying to make sure ...</td>\n",
       "    </tr>\n",
       "    <tr>\n",
       "      <th>4</th>\n",
       "      <td>1.0 out of 5 stars</td>\n",
       "      <td>\\n\\n  Is not a surface pro 7, is not intel cor...</td>\n",
       "    </tr>\n",
       "    <tr>\n",
       "      <th>...</th>\n",
       "      <td>...</td>\n",
       "      <td>...</td>\n",
       "    </tr>\n",
       "    <tr>\n",
       "      <th>268</th>\n",
       "      <td>5.0 out of 5 stars</td>\n",
       "      <td>\\n\\n  Everything perfect. Speedy shipping.\\n\\n</td>\n",
       "    </tr>\n",
       "    <tr>\n",
       "      <th>269</th>\n",
       "      <td>4.0 out of 5 stars</td>\n",
       "      <td>\\n\\n  It’s a good computer. Pricey, but that’s...</td>\n",
       "    </tr>\n",
       "    <tr>\n",
       "      <th>270</th>\n",
       "      <td>5.0 out of 5 stars</td>\n",
       "      <td>\\n\\n  Good\\n\\n</td>\n",
       "    </tr>\n",
       "    <tr>\n",
       "      <th>271</th>\n",
       "      <td>5.0 out of 5 stars</td>\n",
       "      <td>\\n\\n  I love this device sooooooo much\\n\\n</td>\n",
       "    </tr>\n",
       "    <tr>\n",
       "      <th>272</th>\n",
       "      <td>5.0 out of 5 stars</td>\n",
       "      <td>\\n\\n  Bueno\\n\\n</td>\n",
       "    </tr>\n",
       "  </tbody>\n",
       "</table>\n",
       "<p>273 rows × 2 columns</p>\n",
       "</div>"
      ],
      "text/plain": [
       "                  stars                                           comments\n",
       "0    4.0 out of 5 stars  \\n\\n  Pros:• USB-C, Finally! As a past Surface...\n",
       "1    2.0 out of 5 stars  \\n\\n  Comparing Dell XPS 13, Lenovo Yoga C940 ...\n",
       "2    5.0 out of 5 stars  \\n\\n  I'm seeing complaints about how this isn...\n",
       "3    1.0 out of 5 stars  \\n\\n  Purchased this item trying to make sure ...\n",
       "4    1.0 out of 5 stars  \\n\\n  Is not a surface pro 7, is not intel cor...\n",
       "..                  ...                                                ...\n",
       "268  5.0 out of 5 stars     \\n\\n  Everything perfect. Speedy shipping.\\n\\n\n",
       "269  4.0 out of 5 stars  \\n\\n  It’s a good computer. Pricey, but that’s...\n",
       "270  5.0 out of 5 stars                                     \\n\\n  Good\\n\\n\n",
       "271  5.0 out of 5 stars         \\n\\n  I love this device sooooooo much\\n\\n\n",
       "272  5.0 out of 5 stars                                    \\n\\n  Bueno\\n\\n\n",
       "\n",
       "[273 rows x 2 columns]"
      ]
     },
     "execution_count": 108,
     "metadata": {},
     "output_type": "execute_result"
    }
   ],
   "source": [
    "import pandas as pd\n",
    "df = pd.DataFrame({'stars': starts, 'comments':comments})\n",
    "df"
   ]
  },
  {
   "cell_type": "code",
   "execution_count": 109,
   "metadata": {},
   "outputs": [
    {
     "data": {
      "text/html": [
       "<div>\n",
       "<style scoped>\n",
       "    .dataframe tbody tr th:only-of-type {\n",
       "        vertical-align: middle;\n",
       "    }\n",
       "\n",
       "    .dataframe tbody tr th {\n",
       "        vertical-align: top;\n",
       "    }\n",
       "\n",
       "    .dataframe thead th {\n",
       "        text-align: right;\n",
       "    }\n",
       "</style>\n",
       "<table border=\"1\" class=\"dataframe\">\n",
       "  <thead>\n",
       "    <tr style=\"text-align: right;\">\n",
       "      <th></th>\n",
       "      <th>stars</th>\n",
       "      <th>comments</th>\n",
       "    </tr>\n",
       "  </thead>\n",
       "  <tbody>\n",
       "    <tr>\n",
       "      <th>0</th>\n",
       "      <td>4.0 stars</td>\n",
       "      <td>Pros:• USB-C, Finally! As a past Surface Pro...</td>\n",
       "    </tr>\n",
       "    <tr>\n",
       "      <th>1</th>\n",
       "      <td>2.0 stars</td>\n",
       "      <td>Comparing Dell XPS 13, Lenovo Yoga C940 14 a...</td>\n",
       "    </tr>\n",
       "    <tr>\n",
       "      <th>2</th>\n",
       "      <td>5.0 stars</td>\n",
       "      <td>I'm seeing complaints about how this isn't a...</td>\n",
       "    </tr>\n",
       "    <tr>\n",
       "      <th>3</th>\n",
       "      <td>1.0 stars</td>\n",
       "      <td>Purchased this item trying to make sure I go...</td>\n",
       "    </tr>\n",
       "    <tr>\n",
       "      <th>4</th>\n",
       "      <td>1.0 stars</td>\n",
       "      <td>Is not a surface pro 7, is not intel core i5...</td>\n",
       "    </tr>\n",
       "    <tr>\n",
       "      <th>...</th>\n",
       "      <td>...</td>\n",
       "      <td>...</td>\n",
       "    </tr>\n",
       "    <tr>\n",
       "      <th>268</th>\n",
       "      <td>5.0 stars</td>\n",
       "      <td>Everything perfect. Speedy shipping.</td>\n",
       "    </tr>\n",
       "    <tr>\n",
       "      <th>269</th>\n",
       "      <td>4.0 stars</td>\n",
       "      <td>It’s a good computer. Pricey, but that’s Mic...</td>\n",
       "    </tr>\n",
       "    <tr>\n",
       "      <th>270</th>\n",
       "      <td>5.0 stars</td>\n",
       "      <td>Good</td>\n",
       "    </tr>\n",
       "    <tr>\n",
       "      <th>271</th>\n",
       "      <td>5.0 stars</td>\n",
       "      <td>I love this device sooooooo much</td>\n",
       "    </tr>\n",
       "    <tr>\n",
       "      <th>272</th>\n",
       "      <td>5.0 stars</td>\n",
       "      <td>Bueno</td>\n",
       "    </tr>\n",
       "  </tbody>\n",
       "</table>\n",
       "<p>273 rows × 2 columns</p>\n",
       "</div>"
      ],
      "text/plain": [
       "         stars                                           comments\n",
       "0    4.0 stars    Pros:• USB-C, Finally! As a past Surface Pro...\n",
       "1    2.0 stars    Comparing Dell XPS 13, Lenovo Yoga C940 14 a...\n",
       "2    5.0 stars    I'm seeing complaints about how this isn't a...\n",
       "3    1.0 stars    Purchased this item trying to make sure I go...\n",
       "4    1.0 stars    Is not a surface pro 7, is not intel core i5...\n",
       "..         ...                                                ...\n",
       "268  5.0 stars               Everything perfect. Speedy shipping.\n",
       "269  4.0 stars    It’s a good computer. Pricey, but that’s Mic...\n",
       "270  5.0 stars                                               Good\n",
       "271  5.0 stars                   I love this device sooooooo much\n",
       "272  5.0 stars                                              Bueno\n",
       "\n",
       "[273 rows x 2 columns]"
      ]
     },
     "execution_count": 109,
     "metadata": {},
     "output_type": "execute_result"
    }
   ],
   "source": [
    "df['stars'] = df['stars'].str.replace('out of 5 ','')\n",
    "df['comments'] = df['comments'].str.replace('\\n','')\n",
    "df"
   ]
  },
  {
   "cell_type": "code",
   "execution_count": 110,
   "metadata": {},
   "outputs": [],
   "source": [
    "df.to_csv('Surface Pro 7.csv')"
   ]
  },
  {
   "cell_type": "code",
   "execution_count": 111,
   "metadata": {},
   "outputs": [
    {
     "data": {
      "image/png": "[encoded data removed]",
      "text/plain": [
       "<Figure size 432x288 with 1 Axes>"
      ]
     },
     "metadata": {
      "needs_background": "light"
     },
     "output_type": "display_data"
    }
   ],
   "source": [
    "summarised_results = df[\"stars\"].value_counts()\n",
    "plt.bar(summarised_results.keys(), summarised_results.values)\n",
    "plt.show()"
   ]
  },
  {
   "cell_type": "code",
   "execution_count": null,
   "metadata": {},
   "outputs": [],
   "source": [
    "review-title"
   ]
  },
  {
   "cell_type": "code",
   "execution_count": 112,
   "metadata": {},
   "outputs": [],
   "source": [
    "title = full_content[0].find_all('a', {'class':\"review-title\"})\n",
    "helpful_num = full_content[0].find_all('span', {'class':\"helpful-vote-statement\"})"
   ]
  },
  {
   "cell_type": "code",
   "execution_count": 113,
   "metadata": {},
   "outputs": [
    {
     "data": {
      "text/plain": [
       "0"
      ]
     },
     "execution_count": 113,
     "metadata": {},
     "output_type": "execute_result"
    }
   ],
   "source": [
    "len(title)"
   ]
  },
  {
   "cell_type": "markdown",
   "metadata": {},
   "source": [
    "Drop title and helpful number because not all reviews has it."
   ]
  },
  {
   "cell_type": "code",
   "execution_count": 115,
   "metadata": {},
   "outputs": [
    {
     "data": {
      "text/plain": [
       "0"
      ]
     },
     "execution_count": 115,
     "metadata": {},
     "output_type": "execute_result"
    }
   ],
   "source": [
    "len(helpful_num)"
   ]
  },
  {
   "cell_type": "code",
   "execution_count": null,
   "metadata": {},
   "outputs": [],
   "source": []
  }
 ],
 "metadata": {
  "kernelspec": {
   "display_name": "Python 3",
   "language": "python",
   "name": "python3"
  },
  "language_info": {
   "codemirror_mode": {
    "name": "ipython",
    "version": 3
   },
   "file_extension": ".py",
   "mimetype": "text/x-python",
   "name": "python",
   "nbconvert_exporter": "python",
   "pygments_lexer": "ipython3",
   "version": "3.7.1"
  }
 },
 "nbformat": 4,
 "nbformat_minor": 4
}
